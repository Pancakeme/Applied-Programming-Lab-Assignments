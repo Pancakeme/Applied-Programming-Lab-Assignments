{
 "cells": [
  {
   "cell_type": "markdown",
   "id": "fc6dda8a-f46f-44d7-83bd-fd5224a177b7",
   "metadata": {},
   "source": [
    "# Prerequisites to run this notebook\n",
    "\n",
    "A working jupyter lab environment is needed, to access files and run python cells. Libraries numpy, sys and cmath are expected. Custom testcases are provided in the same directory."
   ]
  },
  {
   "cell_type": "markdown",
   "id": "641ef89a-3987-4d2f-a66e-8355a03b6883",
   "metadata": {},
   "source": [
    "# Problem 1\n",
    "\n",
    "Write a function to find the factorial of N (N being an input) and find the time taken to compute it. This will obviously depend on where you run the code and which approach you use to implement the factorial. Explain your observations briefly."
   ]
  },
  {
   "cell_type": "code",
   "execution_count": 1,
   "id": "49fe5a94-abd9-4a21-95f7-3c38f2dbe6be",
   "metadata": {},
   "outputs": [],
   "source": [
    "def factorial(n):\n",
    "    if n < 0:\n",
    "        print(\"Error: The number is negative.\")\n",
    "    elif n == 1:\n",
    "        return n\n",
    "    else:\n",
    "        return n*factorial(n-1)"
   ]
  },
  {
   "cell_type": "code",
   "execution_count": 2,
   "id": "dd050478-1ba0-4049-9e85-cc5322342438",
   "metadata": {},
   "outputs": [
    {
     "name": "stdout",
     "output_type": "stream",
     "text": [
      "93326215443944152681699238856266700490715968264381621468592963895217599993229915608941463976156518286253697920827223758251185210916864000000000000000000000000\n",
      "22.4 µs ± 2.73 µs per loop (mean ± std. dev. of 7 runs, 10000 loops each)\n"
     ]
    }
   ],
   "source": [
    "print(factorial(100))\n",
    "%timeit factorial(100)"
   ]
  },
  {
   "cell_type": "markdown",
   "id": "6d550d22-639a-46d1-9ea4-993f7839d370",
   "metadata": {},
   "source": [
    "## Explanation\n",
    "\n",
    "We use recursion to calculate the factorial of the given number. The function is called at every instant decrementing the argument till it reaches the exit case `n=1`."
   ]
  },
  {
   "cell_type": "markdown",
   "id": "1de52db8-d953-4014-8fed-cf7bc1b649f4",
   "metadata": {},
   "source": [
    "# Problem 2\n",
    "\n",
    "Write a linear equation solver that will take in matrices  𝐴\n",
    "  and  𝑏\n",
    "  as inputs, and return the vector  𝑥\n",
    "  that solves the equation  𝐴𝑥=𝑏\n",
    " . Your function should catch errors in the inputs and return suitable error messages for different possible problems."
   ]
  },
  {
   "cell_type": "code",
   "execution_count": 3,
   "id": "9fcd2d0c-0328-44a7-8fe1-d540c5b14244",
   "metadata": {},
   "outputs": [],
   "source": [
    "import numpy as np\n",
    "import sys"
   ]
  },
  {
   "cell_type": "markdown",
   "id": "92680d50-1348-4efc-b054-ce0091127fba",
   "metadata": {},
   "source": [
    "## Explanation\n",
    "\n",
    "Import numpy library as np, we use numpy for computation and defining arrays."
   ]
  },
  {
   "cell_type": "code",
   "execution_count": 4,
   "id": "45863753-416f-41d1-9076-28445ce9dfc8",
   "metadata": {},
   "outputs": [],
   "source": [
    "def gaussian(A, B):\n",
    "    \n",
    "    if A.shape[0] != A.shape[1] or A.shape[0] != B.shape[0]:\n",
    "        print(\"Check your matrix.\")\n",
    "        sys.exit()\n",
    "    n = A.shape[0]\n",
    "    \n",
    "    for i in range(n):\n",
    "        \n",
    "        #row swapping and checking pivot elements\n",
    "        if A[i][i] == 0:\n",
    "            for j in range(i, n):\n",
    "                if A[j][j] !=0:\n",
    "                    ls = A[i]\n",
    "                    A[i] = A[j]\n",
    "                    A[j] = ls\n",
    "                    dum = B[i]\n",
    "                    B[i] = B[j]\n",
    "                    B[j] = dum\n",
    "        \n",
    "        #checking the valuse in the last row of the augmented matrix\n",
    "        #if all zero then infinetly many solutions\n",
    "        if all(l == 0 for l in A[n-1]) and B[n-1] == 0:\n",
    "            return \"Infinitely many solutions\"\n",
    "        #else if all zero in matrix A and non-zero value in B then no solution\n",
    "        elif all(l == 0 for l in A[n-1]) and B[n-1] != 0:\n",
    "            return \"No solutions\"\n",
    "         \n",
    "        #pivot element\n",
    "        norm = A[i][i]\n",
    "        #forward substitution for upper triangular matrix\n",
    "        for j in range(n): \n",
    "            A[i][j] = A[i][j]/norm\n",
    "        B[i] = B[i]/norm\n",
    "\n",
    "        for j in range(i+1, n):\n",
    "            norm = A[j][i]\n",
    "            for k in range(n): A[j][k] = A[j][k] - norm*A[i][k]\n",
    "            B[j] = B[j] - B[i]*norm\n",
    "\n",
    "    #back substitution for row reduced echelon form\n",
    "    for i in range(n-1, -1, -1):\n",
    "        for j in range(i-1, -1, -1):\n",
    "            norm = A[j][i]\n",
    "            for k in range(n):\n",
    "                A[j][k] = A[j][k] - norm*A[i][k]\n",
    "            B[j] = B[j] - norm*B[i]\n",
    "    #returns the matrices A in row reduced echelon form and B gives the values of the variables\n",
    "    return A, B"
   ]
  },
  {
   "cell_type": "code",
   "execution_count": 5,
   "id": "aefa5cd6-58a9-4ac4-85fc-6da17e830c67",
   "metadata": {},
   "outputs": [
    {
     "name": "stdout",
     "output_type": "stream",
     "text": [
      "(array([[ 1.,  0.,  0.,  0.,  0.,  0.,  0.,  0.,  0.,  0.],\n",
      "       [ 0.,  1.,  0.,  0.,  0.,  0.,  0.,  0.,  0.,  0.],\n",
      "       [ 0.,  0.,  1.,  0.,  0.,  0.,  0.,  0.,  0.,  0.],\n",
      "       [ 0.,  0.,  0.,  1.,  0.,  0.,  0.,  0.,  0.,  0.],\n",
      "       [ 0.,  0.,  0.,  0.,  1.,  0.,  0.,  0.,  0.,  0.],\n",
      "       [ 0.,  0.,  0.,  0.,  0.,  1.,  0.,  0.,  0.,  0.],\n",
      "       [ 0.,  0.,  0.,  0.,  0.,  0.,  1.,  0.,  0.,  0.],\n",
      "       [ 0.,  0.,  0.,  0.,  0.,  0.,  0.,  1.,  0.,  0.],\n",
      "       [ 0.,  0.,  0.,  0.,  0.,  0.,  0.,  0.,  1.,  0.],\n",
      "       [-0., -0., -0., -0., -0., -0., -0., -0., -0.,  1.]]), array([ 0.57592865, -1.1434718 ,  1.700912  ,  1.56273285,  1.1733649 ,\n",
      "        1.36712171, -1.35775437,  1.04556496, -1.97475077, -2.06722465]))\n",
      "1.18 ms ± 63.9 µs per loop (mean ± std. dev. of 7 runs, 1000 loops each)\n"
     ]
    }
   ],
   "source": [
    "A = np.array([[1 ,3 ,1 ,2 ,6 ,6 ,0 ,1 ,3 ,5 ],\n",
    "[7 ,0 ,2 ,0 ,5 ,5 ,6 ,3 ,3 ,3 ],\n",
    "[6 ,0 ,6 ,0 ,0 ,8 ,4 ,5 ,3 ,7 ],\n",
    "[8 ,5 ,4 ,9 ,3 ,5 ,3 ,5 ,8 ,7 ],\n",
    "[7 ,6 ,3 ,8 ,9 ,2 ,3 ,8 ,7 ,8 ],\n",
    "[9 ,5 ,7 ,0 ,7 ,7 ,0 ,1 ,8 ,6 ],\n",
    "[3 ,9 ,7 ,9 ,2 ,1 ,7 ,6 ,7 ,1 ],\n",
    "[8 ,5 ,6 ,4 ,4 ,0 ,3 ,7 ,2 ,5 ],\n",
    "[1 ,2 ,7 ,6 ,1 ,5 ,2 ,0 ,8 ,1 ],\n",
    "[6 ,4 ,4 ,3 ,6 ,2 ,7 ,8 ,5 ,2 ]], dtype='float')\n",
    "B = np.array([2, 3, 4, 1, 2, 2, 2, 9, 7, 5], dtype='float')\n",
    "\n",
    "print(gaussian(A, B))\n",
    "\n",
    "%timeit gaussian(A, B)"
   ]
  },
  {
   "cell_type": "markdown",
   "id": "b8f24d91-beb2-4739-932e-cda2c477d647",
   "metadata": {},
   "source": [
    "## Explanation\n",
    "\n",
    "We use Gaussian Elimination technique to solve this set of equations. We use pivoting and row swapping to check for '0' pivot elements and to detect \"infinitely many solutions\" or \"no solution\" cases. \n",
    "\n",
    "The array B gives the values of the variables."
   ]
  },
  {
   "cell_type": "code",
   "execution_count": 6,
   "id": "1390b030-8300-4731-8245-de1ebd1ddf5f",
   "metadata": {},
   "outputs": [
    {
     "name": "stdout",
     "output_type": "stream",
     "text": [
      "[[1. 0. 0. 0. 0. 0. 0. 0. 0. 0.]\n",
      " [0. 1. 0. 0. 0. 0. 0. 0. 0. 0.]\n",
      " [0. 0. 1. 0. 0. 0. 0. 0. 0. 0.]\n",
      " [0. 0. 0. 1. 0. 0. 0. 0. 0. 0.]\n",
      " [0. 0. 0. 0. 1. 0. 0. 0. 0. 0.]\n",
      " [0. 0. 0. 0. 0. 1. 0. 0. 0. 0.]\n",
      " [0. 0. 0. 0. 0. 0. 1. 0. 0. 0.]\n",
      " [0. 0. 0. 0. 0. 0. 0. 1. 0. 0.]\n",
      " [0. 0. 0. 0. 0. 0. 0. 0. 1. 0.]\n",
      " [0. 0. 0. 0. 0. 0. 0. 0. 0. 1.]] [ 0.57592865 -1.1434718   1.700912    1.56273285  1.1733649   1.36712171\n",
      " -1.35775437  1.04556496 -1.97475077 -2.06722465]\n",
      "7.78 µs ± 497 ns per loop (mean ± std. dev. of 7 runs, 100000 loops each)\n"
     ]
    }
   ],
   "source": [
    "np.linalg.solve(A, B)\n",
    "\n",
    "print(A, B)\n",
    "%timeit np.linalg.solve(A, B)"
   ]
  },
  {
   "cell_type": "markdown",
   "id": "caf717b8-47a5-487e-bab8-1ec3b0f46ef6",
   "metadata": {},
   "source": [
    "## Explanation\n",
    "\n",
    "Our gaussian elimination solver takes more time to compute the solution to this 10x10 system of equations, while numpy's inbuilt function `numpy.linalg.solve()` takes lesser time to run.\n",
    "\n",
    "We see that numpy is faster but it cannot handle complex numbers, while our eliminator can."
   ]
  },
  {
   "cell_type": "markdown",
   "id": "e5c78ecf-402f-44d8-8cef-4fa9ab1e4c05",
   "metadata": {},
   "source": [
    "# Problem 3 \n",
    "\n",
    "Given a circuit netlist in the form described above, read it in from a file, construct the appropriate matrices, and use the solver you have written above to obtain the voltages and currents in the circuit. If you find AC circuits hard to handle, first do this for pure DC circuits, but you should be able to handle both voltage and current sources."
   ]
  },
  {
   "cell_type": "code",
   "execution_count": 7,
   "id": "4b9d31f8-f778-4e00-92d6-116092deba05",
   "metadata": {},
   "outputs": [],
   "source": [
    "def chan(x):\n",
    "    if x == \"GND\":\n",
    "        x = '0'\n",
    "    return x"
   ]
  },
  {
   "cell_type": "markdown",
   "id": "f345f61a-e125-4a43-9c93-97055611b622",
   "metadata": {},
   "source": [
    "## Explanation\n",
    "\n",
    "This is custom defined function to check and assign the `GND` node to `0`."
   ]
  },
  {
   "cell_type": "markdown",
   "id": "f0d0dc7a-8037-4d9e-9ae0-a0119c638a39",
   "metadata": {},
   "source": [
    "## Use this cell when the circuit purely DC\n",
    "\n",
    "When the sources are purely DC and the elements are resistor use this cell to get the output.\n",
    "\n",
    "In the custom testcases, files: **1, 3, 4 and 5** are run using this cell."
   ]
  },
  {
   "cell_type": "code",
   "execution_count": 8,
   "id": "a407c7dd-3e1c-4812-a666-4ac4d48359af",
   "metadata": {},
   "outputs": [
    {
     "name": "stdout",
     "output_type": "stream",
     "text": [
      "The modified nodal equations in the matrix form\n",
      "[[ 0.1  1. ]\n",
      " [-1.   0. ]]\n",
      "[ 0. 10.]\n"
     ]
    }
   ],
   "source": [
    "f = open(\"ckt5.netlist\", \"r\")\n",
    "\n",
    "ls = f.readlines()\n",
    "\n",
    "#look for start and end of circuit\n",
    "for i in range(len(ls)):\n",
    "    if ls[i] == \".circuit\\n\" or ls[i] == \".circuit\": start = i+1\n",
    "    if ls[i] == \".end\\n\" or ls[i] == \".end\": end = i\n",
    "\n",
    "ls = ls[start:end]\n",
    "\n",
    "cnt=0\n",
    "\n",
    "arr = [[]]\n",
    "\n",
    "#splitting the terms in each line\n",
    "for i in range(len(ls)):\n",
    "    arr.append(ls[i].split())\n",
    "\n",
    "arr = arr[1:]\n",
    "maxi = 0\n",
    "nv = 0\n",
    "\n",
    "#to calculate number of nodes and number of voltage sources\n",
    "for i in range(len(arr)):\n",
    "    if arr[i][0][0] == 'V': nv += 1 \n",
    "    if maxi < int(chan(arr[i][1])):\n",
    "        maxi = int(chan(arr[i][1]))\n",
    "    if maxi < int(chan(arr[i][2])):\n",
    "        maxi = int(chan(arr[i][2]))\n",
    "\n",
    "#initialize A and B amtrices accordingly\n",
    "A = np.zeros((maxi+nv, maxi+nv))\n",
    "B = np.zeros(maxi+nv)\n",
    "\n",
    "f.close()\n",
    "\n",
    "#go through each node and fill the matrix A and B\n",
    "for i in range(maxi):\n",
    "    for j in range(len(arr)):\n",
    "        #for resistive element\n",
    "        if arr[j][0][0] == 'R':\n",
    "            if int(chan(arr[j][1])) == i+1:\n",
    "                A[i][i] += 1/float(chan(arr[j][3]))\n",
    "                if int(chan(arr[j][2])) != 0:\n",
    "                    A[i][int(chan(arr[j][2]))-1] += -1/float(chan(arr[j][3]))\n",
    "            if int(chan(arr[j][2])) == i+1:\n",
    "                A[i][i] += 1/float(chan(arr[j][3]))\n",
    "                if int(chan(arr[j][1])) != 0:\n",
    "                    A[i][int(chan(arr[j][1]))-1] += -1/float(chan(arr[j][3]))\n",
    "        #for voltage source\n",
    "        if arr[j][0][0] == 'V':\n",
    "            if int(chan(arr[j][1])) == i+1:\n",
    "                A[i][maxi - 1 + int(arr[j][0][1])] -= 1\n",
    "            if int(chan(arr[j][2])) == i+1:\n",
    "                A[i][maxi - 1 + int(arr[j][0][1])] += 1\n",
    "        #for current source\n",
    "        if arr[j][0][0] == 'I':\n",
    "            if int(chan(arr[j][1])) == i+1:\n",
    "                B[i] -= int(chan(arr[j][4]))\n",
    "            if int(chan(arr[j][2])) == i+1:\n",
    "                B[i] += int(chan(arr[j][4]))\n",
    "                \n",
    "#auxillary equations\n",
    "for j in range(len(arr)):\n",
    "    if arr[j][0][0] == 'V':\n",
    "        if int(chan(arr[j][1])) != 0:\n",
    "            A[maxi - 1 + int(arr[j][0][1])][int(chan(arr[j][1])) - 1] = 1\n",
    "        if int(chan(arr[j][2])) != 0:\n",
    "            A[maxi - 1 + int(arr[j][0][1])][int(chan(arr[j][2])) - 1] = -1\n",
    "        B[maxi - 1 + int(arr[j][0][1])] = int(chan(arr[j][4]))\n",
    "\n",
    "print(\"The modified nodal equations in the matrix form\")\n",
    "print(A)\n",
    "print(B)"
   ]
  },
  {
   "cell_type": "code",
   "execution_count": 9,
   "id": "9728b4a3-54f8-47f2-a57e-2b412e458500",
   "metadata": {},
   "outputs": [
    {
     "name": "stdout",
     "output_type": "stream",
     "text": [
      "Nodal Voltages and Auxillary Currents\n",
      "V1 = -10.00000\n",
      "I1 = 1.00000\n"
     ]
    }
   ],
   "source": [
    "gaussian(A, B)\n",
    "print(\"Nodal Voltages and Auxillary Currents\")\n",
    "for i in range(maxi):\n",
    "    print(f\"V{i+1:} = %.5f\" % B[i])\n",
    "for i in range(nv):\n",
    "    print(f\"I{i+1:} = %.5f\" % B[maxi + i])"
   ]
  },
  {
   "cell_type": "markdown",
   "id": "85b2feb2-5c3e-40c6-bd7a-830e6de85b54",
   "metadata": {},
   "source": [
    "## Explanation\n",
    "\n",
    "We use list manipulation and modified nodal analysis techniques to build our A and B matrices with nodal voltages and auxillary currents as its variables. Then use our previously defined gaussian solver to solve the constructed matrix."
   ]
  },
  {
   "cell_type": "markdown",
   "id": "b7f34b76-6ec6-4e52-a34e-fe5becd00053",
   "metadata": {},
   "source": [
    "## Use this cell for purely AC circuit with or without Inductors and Capacitors\n",
    "\n",
    "When the sources are purely AC use this cell to get the output.\n",
    "\n",
    "In the custom testcases, files: **6 and 7** are run using this cell."
   ]
  },
  {
   "cell_type": "code",
   "execution_count": 10,
   "id": "670fa055-1da7-4ce8-aef2-5796f1ac6f25",
   "metadata": {},
   "outputs": [
    {
     "name": "stdout",
     "output_type": "stream",
     "text": [
      "The modified nodal analysis matrix\n",
      "[[0.001+6124.03036409j]]\n",
      "[5.+0.j]\n"
     ]
    }
   ],
   "source": [
    "f = open(\"ckt7.netlist\", \"r\")\n",
    "\n",
    "ls = f.readlines()\n",
    "\n",
    "fr = []\n",
    " \n",
    "#look for start and end of circuit and identify frequency\n",
    "for i in range(len(ls)):\n",
    "    if ls[i] == \".circuit\\n\" or ls[i] == \".circuit\": start = i+1\n",
    "    if ls[i] == \".end\\n\" or ls[i] == \".end\": end = i\n",
    "    if ls[i][0:3] == \".ac\":\n",
    "        fr.append(i)\n",
    "        chk = len(ls[i])\n",
    "        for j in range(len(ls[i])):\n",
    "            if ls[i][j] == '#':\n",
    "                chk = j\n",
    "        ls[i] = ls[i][:chk]\n",
    "\n",
    "#to check for multiple frequencies\n",
    "nl = [float(ls[fr[i]][7:]) - float(ls[fr[0]][7:]) for i in range(len(fr))]\n",
    "    \n",
    "#if not multiple frequencies\n",
    "if all(i == 0.0 for i in nl):\n",
    "    freq = float(ls[fr[0]][7:])\n",
    "    #define omega\n",
    "    omega = 2*np.pi*freq\n",
    "\n",
    "    ls = ls[start:end]\n",
    "\n",
    "    cnt=0\n",
    "\n",
    "    arr = [[]]\n",
    "\n",
    "    for i in range(len(ls)):\n",
    "        arr.append(ls[i].split())\n",
    "\n",
    "    arr = arr[1:]\n",
    "    maxi = 0\n",
    "    nv = 0\n",
    "    #slice the array ad convert nodes accordingly\n",
    "    for i in range(len(arr)):\n",
    "        if arr[i][1][0] == 'n': arr[i][1] = arr[i][1][1]\n",
    "        if arr[i][2][0] == 'n': arr[i][2] = arr[i][2][1]\n",
    "    #finding the number of nodes and voltage sources\n",
    "    for i in range(len(arr)):\n",
    "        if arr[i][0][0] == 'V': nv += 1 \n",
    "        if maxi < int(chan(arr[i][1])):\n",
    "            maxi = int(chan(arr[i][1]))\n",
    "        if maxi < int(chan(arr[i][2])):\n",
    "            maxi = int(chan(arr[i][2]))\n",
    "    #initializing A and B matrices\n",
    "    A = np.zeros((maxi+nv, maxi+nv), dtype = 'complex')\n",
    "    B = np.zeros(maxi+nv, dtype = 'complex')\n",
    "\n",
    "    f.close()\n",
    "    \n",
    "    #for each node update A and B matrices accordingly\n",
    "    for i in range(maxi):\n",
    "        for j in range(len(arr)):\n",
    "            #if found resistor\n",
    "            if arr[j][0][0] == 'R':\n",
    "                if int(chan(arr[j][1])) == i+1:\n",
    "                    A[i][i] += 1/float(chan(arr[j][3]))\n",
    "                    if int(chan(arr[j][2])) != 0:\n",
    "                        A[i][int(chan(arr[j][2]))-1] += -1/float(chan(arr[j][3]))\n",
    "                if int(chan(arr[j][2])) == i+1:\n",
    "                    A[i][i] += 1/float(chan(arr[j][3]))\n",
    "                    if int(chan(arr[j][1])) != 0:\n",
    "                        A[i][int(chan(arr[j][1]))-1] += -1/float(chan(arr[j][3]))\n",
    "            #if found inductor\n",
    "            if arr[j][0][0] == 'L':\n",
    "                xl = float(chan(arr[j][3]))*complex(0, 1)*omega\n",
    "                if int(chan(arr[j][1])) == i+1:\n",
    "                    A[i][i] += 1/xl\n",
    "                    if int(chan(arr[j][2])) != 0:\n",
    "                        A[i][int(chan(arr[j][2]))-1] += -1/xl\n",
    "                if int(chan(arr[j][2])) == i+1:\n",
    "                    A[i][i] += 1/xl\n",
    "                    if int(chan(arr[j][1])) != 0:\n",
    "                        A[i][int(chan(arr[j][1]))-1] += -1/xl\n",
    "            #if found capacitor\n",
    "            if arr[j][0][0] == 'C':\n",
    "                xc = 1/(float(chan(arr[j][3]))*complex(0, 1)*omega)\n",
    "                if int(chan(arr[j][1])) == i+1:\n",
    "                    A[i][i] += 1/xc\n",
    "                    if int(chan(arr[j][2])) != 0:\n",
    "                        A[i][int(chan(arr[j][2]))-1] += -1/xc\n",
    "                if int(chan(arr[j][2])) == i+1:\n",
    "                    A[i][i] += 1/xc\n",
    "                    if int(chan(arr[j][1])) != 0:\n",
    "                        A[i][int(chan(arr[j][1]))-1] += -1/xc\n",
    "            #if found voltage source\n",
    "            if arr[j][0][0] == 'V':\n",
    "                if int(chan(arr[j][1])) == i+1:\n",
    "                    A[i][maxi - 1 + int(arr[j][0][1])] -= 1\n",
    "                if int(chan(arr[j][2])) == i+1:\n",
    "                    A[i][maxi - 1 + int(arr[j][0][1])] += 1\n",
    "            #if found current source\n",
    "            if arr[j][0][0] == 'I':\n",
    "                if int(chan(arr[j][1])) == i+1:\n",
    "                    B[i] -= int(chan(arr[j][4]))\n",
    "                if int(chan(arr[j][2])) == i+1:\n",
    "                    B[i] += int(chan(arr[j][4]))\n",
    "    #auxillary equations\n",
    "    for j in range(len(arr)):\n",
    "        if arr[j][0][0] == 'V':\n",
    "            if int(chan(arr[j][1])) != 0:\n",
    "                A[maxi - 1 + int(arr[j][0][1])][int(chan(arr[j][1])) - 1] = 1\n",
    "            if int(chan(arr[j][2])) != 0:\n",
    "                A[maxi - 1 + int(arr[j][0][1])][int(chan(arr[j][2])) - 1] = -1\n",
    "            if arr[j][3] == 'ac':\n",
    "                B[maxi - 1 + int(arr[j][0][1])] = int(chan(arr[j][4]))\n",
    "\n",
    "    print(\"The modified nodal analysis matrix\")\n",
    "    print(A)\n",
    "    print(B)\n",
    "\n",
    "#for multiple frequencies \n",
    "else:\n",
    "    print(\"Skill issue : Multiple Frequencies\")"
   ]
  },
  {
   "cell_type": "code",
   "execution_count": 11,
   "id": "5e73cecf-ad5f-4e3d-a26e-d6b1878bf65a",
   "metadata": {},
   "outputs": [
    {
     "name": "stdout",
     "output_type": "stream",
     "text": [
      "Nodal Voltages and Auxillary Currents\n",
      "V1: Magnitude = 0.00082 \t Phase = -1.57080\n"
     ]
    }
   ],
   "source": [
    "import cmath\n",
    "gaussian(A, B)\n",
    "\n",
    "print(\"Nodal Voltages and Auxillary Currents\")\n",
    "\n",
    "for i in range(maxi):\n",
    "    print(f\"V{i+1:}: Magnitude = %.5f\" % cmath.polar(B[i])[0], \"\\t\", \"Phase = %.5f\" % cmath.polar(B[i])[1])\n",
    "for i in range(nv):\n",
    "    print(f\"I{i+1:}: Magnitude = %.5f\" % cmath.polar(B[maxi + i])[0], \"\\t\", \"Phase = %.5f\" % cmath.polar(B[maxi + i])[1])"
   ]
  },
  {
   "cell_type": "markdown",
   "id": "d26b352d-ce97-45d8-b4dc-16fa57d0f44d",
   "metadata": {},
   "source": [
    "## Explanation\n",
    "\n",
    "We use similar techniques as DC, but in complex domain where the corresponding impedances are considered.\n",
    "\n",
    "The output given is to be undertood as the $$V = Magnitude \\times e^{j\\omega t + phase}$$"
   ]
  },
  {
   "cell_type": "markdown",
   "id": "332e3ae2-cb9f-45ec-a967-a5f7c67fe953",
   "metadata": {},
   "source": [
    "# Use this cell to run cicuits with a mixed set of sources AC and DC\n",
    "\n",
    "When the sources are a superposition of DC and AC sources use this cell to get the output.\n",
    "\n",
    "In the custom testcases, file: **2** is run using this cell."
   ]
  },
  {
   "cell_type": "markdown",
   "id": "f4cd191f-f61b-42cc-b6d2-909a4b14d486",
   "metadata": {},
   "source": [
    "### This cell is considering only DC, shorting all other AC sources"
   ]
  },
  {
   "cell_type": "code",
   "execution_count": 12,
   "id": "1c5fa63b-e8ba-4f3b-b163-bc696121077b",
   "metadata": {},
   "outputs": [
    {
     "name": "stdout",
     "output_type": "stream",
     "text": [
      "The modified nodal equations in the matrix form for DC sources alone by shorting AC sources.\n",
      "[[ 1.50e-03 -5.00e-04  0.00e+00  0.00e+00  0.00e+00  0.00e+00  0.00e+00\n",
      "   0.00e+00]\n",
      " [-5.00e-04  7.50e-04 -2.50e-04  0.00e+00  0.00e+00  0.00e+00  0.00e+00\n",
      "  -1.00e+00]\n",
      " [ 0.00e+00 -2.50e-04  2.50e-04  0.00e+00  0.00e+00  0.00e+00 -1.00e+00\n",
      "   0.00e+00]\n",
      " [ 0.00e+00  0.00e+00  0.00e+00  3.25e-04 -2.00e-04 -1.25e-04  0.00e+00\n",
      "   1.00e+00]\n",
      " [ 0.00e+00  0.00e+00  0.00e+00 -2.00e-04  2.00e-04  0.00e+00  0.00e+00\n",
      "   0.00e+00]\n",
      " [ 0.00e+00  0.00e+00  0.00e+00 -1.25e-04  0.00e+00  1.25e-04  0.00e+00\n",
      "   0.00e+00]\n",
      " [ 0.00e+00  0.00e+00  1.00e+00  0.00e+00  0.00e+00  0.00e+00  0.00e+00\n",
      "   0.00e+00]\n",
      " [ 0.00e+00  1.00e+00  0.00e+00 -1.00e+00  0.00e+00  0.00e+00  0.00e+00\n",
      "   0.00e+00]]\n",
      "[ 0.  0.  0.  0. -1. 10.  0.  5.]\n"
     ]
    }
   ],
   "source": [
    "f = open(\"ckt2.netlist\", \"r\")\n",
    "\n",
    "ls = f.readlines()\n",
    " \n",
    "for i in range(len(ls)):\n",
    "    if ls[i] == \".circuit\\n\" or ls[i] == \".circuit\": start = i+1\n",
    "    if ls[i] == \".end\\n\" or ls[i] == \".end\": end = i\n",
    "\n",
    "ls = ls[start:end]\n",
    "\n",
    "cnt=0\n",
    "\n",
    "arr = [[]]\n",
    "\n",
    "\n",
    "for i in range(len(ls)):\n",
    "    arr.append(ls[i].split())\n",
    "\n",
    "arr = arr[1:]\n",
    "maxi = 0\n",
    "nv = 0\n",
    "\n",
    "for i in range(len(arr)):\n",
    "    if arr[i][0][0] == 'V': nv += 1 \n",
    "    if maxi < int(chan(arr[i][1])):\n",
    "        maxi = int(chan(arr[i][1]))\n",
    "    if maxi < int(chan(arr[i][2])):\n",
    "        maxi = int(chan(arr[i][2]))\n",
    "        \n",
    "A = np.zeros((maxi+nv, maxi+nv))\n",
    "B = np.zeros(maxi+nv)\n",
    "\n",
    "f.close()\n",
    "\n",
    "for i in range(maxi):\n",
    "    for j in range(len(arr)):\n",
    "        if arr[j][0][0] == 'R':\n",
    "            if int(chan(arr[j][1])) == i+1:\n",
    "                A[i][i] += 1/float(chan(arr[j][3]))\n",
    "                if int(chan(arr[j][2])) != 0:\n",
    "                    A[i][int(chan(arr[j][2]))-1] += -1/float(chan(arr[j][3]))\n",
    "            if int(chan(arr[j][2])) == i+1:\n",
    "                A[i][i] += 1/float(chan(arr[j][3]))\n",
    "                if int(chan(arr[j][1])) != 0:\n",
    "                    A[i][int(chan(arr[j][1]))-1] += -1/float(chan(arr[j][3]))\n",
    "        if arr[j][0][0] == 'V':\n",
    "            if int(chan(arr[j][1])) == i+1:\n",
    "                A[i][maxi - 1 + int(arr[j][0][1])] -= 1\n",
    "            if int(chan(arr[j][2])) == i+1:\n",
    "                A[i][maxi - 1 + int(arr[j][0][1])] += 1\n",
    "        if arr[j][0][0] == 'I' and arr[j][3] == \"dc\":\n",
    "            if int(chan(arr[j][1])) == i+1:\n",
    "                B[i] -= int(chan(arr[j][4]))\n",
    "            if int(chan(arr[j][2])) == i+1:\n",
    "                B[i] += int(chan(arr[j][4]))\n",
    "                \n",
    "\n",
    "for j in range(len(arr)):\n",
    "    if arr[j][0][0] == 'V':\n",
    "        if int(chan(arr[j][1])) != 0:\n",
    "            A[maxi - 1 + int(arr[j][0][1])][int(chan(arr[j][1])) - 1] = 1\n",
    "        if int(chan(arr[j][2])) != 0:\n",
    "            A[maxi - 1 + int(arr[j][0][1])][int(chan(arr[j][2])) - 1] = -1\n",
    "        if arr[j][3] == \"dc\":\n",
    "            B[maxi - 1 + int(arr[j][0][1])] = int(chan(arr[j][4]))\n",
    "\n",
    "print(\"The modified nodal equations in the matrix form for DC sources alone by shorting AC sources.\")\n",
    "print(A)\n",
    "print(B)"
   ]
  },
  {
   "cell_type": "code",
   "execution_count": 13,
   "id": "62047bbe-1a53-4985-8707-18f93c04f8b8",
   "metadata": {},
   "outputs": [
    {
     "name": "stdout",
     "output_type": "stream",
     "text": [
      "Nodal Voltages and Auxillary Currents only DC\n",
      "V1 = 5142.85714\n",
      "V2 = 15428.57143\n",
      "V3 = 0.00000\n",
      "V4 = 15423.57143\n",
      "V5 = 10423.57143\n",
      "V6 = 95423.57143\n",
      "I1 = -3.85714\n",
      "I2 = 9.00000\n"
     ]
    }
   ],
   "source": [
    "B = np.linalg.solve(A, B)\n",
    "print(\"Nodal Voltages and Auxillary Currents only DC\")\n",
    "for i in range(maxi):\n",
    "    print(f\"V{i+1:} = %.5f\" % B[i])\n",
    "for i in range(nv):\n",
    "    print(f\"I{i+1:} = %.5f\" % B[maxi + i])"
   ]
  },
  {
   "cell_type": "markdown",
   "id": "bd0a895f-4719-43fc-bbbc-56afc41de23c",
   "metadata": {},
   "source": [
    "### This cell is considering only AC, shorting all other DC sources"
   ]
  },
  {
   "cell_type": "code",
   "execution_count": 14,
   "id": "aff49395-0f86-4ff0-b4df-8a7dc2c16f08",
   "metadata": {},
   "outputs": [
    {
     "name": "stdout",
     "output_type": "stream",
     "text": [
      "The modified nodal equations in the matrix form for AC sources alone by shorting DC sources.\n",
      "[[ 1.50e-03+0.j -5.00e-04+0.j  0.00e+00+0.j  0.00e+00+0.j  0.00e+00+0.j\n",
      "   0.00e+00+0.j  0.00e+00+0.j  0.00e+00+0.j]\n",
      " [-5.00e-04+0.j  7.50e-04+0.j -2.50e-04+0.j  0.00e+00+0.j  0.00e+00+0.j\n",
      "   0.00e+00+0.j  0.00e+00+0.j -1.00e+00+0.j]\n",
      " [ 0.00e+00+0.j -2.50e-04+0.j  2.50e-04+0.j  0.00e+00+0.j  0.00e+00+0.j\n",
      "   0.00e+00+0.j -1.00e+00+0.j  0.00e+00+0.j]\n",
      " [ 0.00e+00+0.j  0.00e+00+0.j  0.00e+00+0.j  3.25e-04+0.j -2.00e-04+0.j\n",
      "  -1.25e-04+0.j  0.00e+00+0.j  1.00e+00+0.j]\n",
      " [ 0.00e+00+0.j  0.00e+00+0.j  0.00e+00+0.j -2.00e-04+0.j  2.00e-04+0.j\n",
      "   0.00e+00+0.j  0.00e+00+0.j  0.00e+00+0.j]\n",
      " [ 0.00e+00+0.j  0.00e+00+0.j  0.00e+00+0.j -1.25e-04+0.j  0.00e+00+0.j\n",
      "   1.25e-04+0.j  0.00e+00+0.j  0.00e+00+0.j]\n",
      " [ 0.00e+00+0.j  0.00e+00+0.j  1.00e+00+0.j  0.00e+00+0.j  0.00e+00+0.j\n",
      "   0.00e+00+0.j  0.00e+00+0.j  0.00e+00+0.j]\n",
      " [ 0.00e+00+0.j  1.00e+00+0.j  0.00e+00+0.j -1.00e+00+0.j  0.00e+00+0.j\n",
      "   0.00e+00+0.j  0.00e+00+0.j  0.00e+00+0.j]]\n",
      "[0.+0.j 0.+0.j 0.+0.j 0.+0.j 0.+0.j 0.+0.j 2.+0.j 0.+0.j]\n"
     ]
    }
   ],
   "source": [
    "f = open(\"ckt2.netlist\", \"r\")\n",
    "\n",
    "ls = f.readlines()\n",
    "\n",
    "fr = []\n",
    " \n",
    "for i in range(len(ls)):\n",
    "    if ls[i] == \".circuit\\n\" or ls[i] == \".circuit\": start = i+1\n",
    "    if ls[i] == \".end\\n\" or ls[i] == \".end\": end = i\n",
    "    if ls[i][0:3] == \".ac\":\n",
    "        fr.append(i)\n",
    "        chk = len(ls[i])\n",
    "        for j in range(len(ls[i])):\n",
    "            if ls[i][j] == '#':\n",
    "                chk = j\n",
    "        ls[i] = ls[i][:chk]\n",
    "        \n",
    "nl = [float(ls[fr[i]][7:]) - float(ls[fr[0]][7:]) for i in range(len(fr))]\n",
    "    \n",
    "if all(i == 0.0 for i in nl):\n",
    "    freq = float(ls[fr[0]][7:])\n",
    "\n",
    "    omega = 2*np.pi*freq\n",
    "\n",
    "    ls = ls[start:end]\n",
    "\n",
    "    cnt=0\n",
    "\n",
    "    arr = [[]]\n",
    "\n",
    "    for i in range(len(ls)):\n",
    "        arr.append(ls[i].split())\n",
    "\n",
    "    arr = arr[1:]\n",
    "    maxi = 0\n",
    "    nv = 0\n",
    "\n",
    "    for i in range(len(arr)):\n",
    "        if arr[i][1][0] == 'n': arr[i][1] = arr[i][1][1]\n",
    "        if arr[i][2][0] == 'n': arr[i][2] = arr[i][2][1]\n",
    "\n",
    "    for i in range(len(arr)):\n",
    "        if arr[i][0][0] == 'V': nv += 1 \n",
    "        if maxi < int(chan(arr[i][1])):\n",
    "            maxi = int(chan(arr[i][1]))\n",
    "        if maxi < int(chan(arr[i][2])):\n",
    "            maxi = int(chan(arr[i][2]))\n",
    "\n",
    "    A = np.zeros((maxi+nv, maxi+nv), dtype = 'complex')\n",
    "    B = np.zeros(maxi+nv, dtype = 'complex')\n",
    "\n",
    "    f.close()\n",
    "\n",
    "    for i in range(maxi):\n",
    "        for j in range(len(arr)):\n",
    "            if arr[j][0][0] == 'R':\n",
    "                if int(chan(arr[j][1])) == i+1:\n",
    "                    A[i][i] += 1/float(chan(arr[j][3]))\n",
    "                    if int(chan(arr[j][2])) != 0:\n",
    "                        A[i][int(chan(arr[j][2]))-1] += -1/float(chan(arr[j][3]))\n",
    "                if int(chan(arr[j][2])) == i+1:\n",
    "                    A[i][i] += 1/float(chan(arr[j][3]))\n",
    "                    if int(chan(arr[j][1])) != 0:\n",
    "                        A[i][int(chan(arr[j][1]))-1] += -1/float(chan(arr[j][3]))\n",
    "            if arr[j][0][0] == 'L':\n",
    "                xl = float(chan(arr[j][3]))*complex(0, 1)*omega\n",
    "                if int(chan(arr[j][1])) == i+1:\n",
    "                    A[i][i] += 1/xl\n",
    "                    if int(chan(arr[j][2])) != 0:\n",
    "                        A[i][int(chan(arr[j][2]))-1] += -1/xl\n",
    "                if int(chan(arr[j][2])) == i+1:\n",
    "                    A[i][i] += 1/xl\n",
    "                    if int(chan(arr[j][1])) != 0:\n",
    "                        A[i][int(chan(arr[j][1]))-1] += -1/xl\n",
    "            if arr[j][0][0] == 'C':\n",
    "                xc = 1/(float(chan(arr[j][3]))*complex(0, 1)*omega)\n",
    "                if int(chan(arr[j][1])) == i+1:\n",
    "                    A[i][i] += 1/xc\n",
    "                    if int(chan(arr[j][2])) != 0:\n",
    "                        A[i][int(chan(arr[j][2]))-1] += -1/xc\n",
    "                if int(chan(arr[j][2])) == i+1:\n",
    "                    A[i][i] += 1/xc\n",
    "                    if int(chan(arr[j][1])) != 0:\n",
    "                        A[i][int(chan(arr[j][1]))-1] += -1/xc\n",
    "            if arr[j][0][0] == 'V':\n",
    "                if int(chan(arr[j][1])) == i+1:\n",
    "                    A[i][maxi - 1 + int(arr[j][0][1])] -= 1\n",
    "                if int(chan(arr[j][2])) == i+1:\n",
    "                    A[i][maxi - 1 + int(arr[j][0][1])] += 1\n",
    "            if arr[j][0][0] == 'I' and arr[j][3] == \"ac\":\n",
    "                if int(chan(arr[j][1])) == i+1:\n",
    "                    B[i] -= int(chan(arr[j][4]))\n",
    "                if int(chan(arr[j][2])) == i+1:\n",
    "                    B[i] += int(chan(arr[j][4]))\n",
    "\n",
    "    for j in range(len(arr)):\n",
    "        if arr[j][0][0] == 'V':\n",
    "            if int(chan(arr[j][1])) != 0:\n",
    "                A[maxi - 1 + int(arr[j][0][1])][int(chan(arr[j][1])) - 1] = 1\n",
    "            if int(chan(arr[j][2])) != 0:\n",
    "                A[maxi - 1 + int(arr[j][0][1])][int(chan(arr[j][2])) - 1] = -1\n",
    "            if arr[j][3] == 'ac':\n",
    "                B[maxi - 1 + int(arr[j][0][1])] = int(chan(arr[j][4]))\n",
    "\n",
    "    print(\"The modified nodal equations in the matrix form for AC sources alone by shorting DC sources.\")\n",
    "    print(A)\n",
    "    print(B)\n",
    "    \n",
    "else:\n",
    "    print(\"Multiple Frequencies\")"
   ]
  },
  {
   "cell_type": "code",
   "execution_count": 15,
   "id": "c0cdf267-2f81-4829-86ea-c473d5334240",
   "metadata": {},
   "outputs": [
    {
     "name": "stdout",
     "output_type": "stream",
     "text": [
      "Nodal Voltages and Auxillary Currents for only AC\n",
      "V1: Magnitude = 0.28571 \t Phase = 0.00000\n",
      "V2: Magnitude = 0.85714 \t Phase = 0.00000\n",
      "V3: Magnitude = 2.00000 \t Phase = 0.00000\n",
      "V4: Magnitude = 0.85714 \t Phase = 0.00000\n",
      "V5: Magnitude = 0.85714 \t Phase = 0.00000\n",
      "V6: Magnitude = 0.85714 \t Phase = 0.00000\n",
      "I1: Magnitude = 0.00029 \t Phase = 0.00000\n",
      "I2: Magnitude = 0.00000 \t Phase = -0.00000\n"
     ]
    }
   ],
   "source": [
    "import cmath\n",
    "gaussian(A, B)\n",
    "\n",
    "print(\"Nodal Voltages and Auxillary Currents for only AC\")\n",
    "\n",
    "for i in range(maxi):\n",
    "    print(f\"V{i+1:}: Magnitude = %.5f\" % cmath.polar(B[i])[0], \"\\t\", f\"Phase = %.5f\" % cmath.polar(B[i])[1])\n",
    "for i in range(nv):\n",
    "    print(f\"I{i+1:}: Magnitude = %.5f\" % cmath.polar(B[maxi + i])[0], \"\\t\", \"Phase = %.5f\" % cmath.polar(B[maxi + i])[1])"
   ]
  },
  {
   "cell_type": "markdown",
   "id": "abc4fe17-2608-46da-9a2f-ecc25c6bd595",
   "metadata": {},
   "source": [
    "## Explanation\n",
    "\n",
    "The output should be interpreted as $$V_{dc} = Output_{dc}$$ $$V_{ac} = Output_{ac} = Magnitude \\times e^{j \\omega t + phase}$$ $$V_{total} = V_{dc} + V_{ac}$$"
   ]
  }
 ],
 "metadata": {
  "kernelspec": {
   "display_name": "Python 3 (ipykernel)",
   "language": "python",
   "name": "python3"
  },
  "language_info": {
   "codemirror_mode": {
    "name": "ipython",
    "version": 3
   },
   "file_extension": ".py",
   "mimetype": "text/x-python",
   "name": "python",
   "nbconvert_exporter": "python",
   "pygments_lexer": "ipython3",
   "version": "3.9.13"
  }
 },
 "nbformat": 4,
 "nbformat_minor": 5
}
