{
 "cells": [
  {
   "cell_type": "markdown",
   "id": "d787a504-4c2f-487a-a6d2-ff24cafd0da8",
   "metadata": {},
   "source": [
    "# Prerequisites to run the notebook\n",
    "\n",
    "Any platform to run jupyter notebooks and a working python script should be enough to run the notebook. Libraries like numpy would be expected."
   ]
  },
  {
   "cell_type": "markdown",
   "id": "bc66b3b5-035d-4397-af1d-5c64e180632f",
   "metadata": {},
   "source": [
    "# Document metadata\n",
    "\n",
    "> *Problem statement: modify this document so that the author name reflects your name and roll number.  Explain the changes you needed to make here.  If you use other approaches such as LaTeX to generate the PDF, explain the differences between the notebook approach and what you have used.*"
   ]
  },
  {
   "cell_type": "markdown",
   "id": "610b7803-065b-4e22-b56f-7c2281cef67e",
   "metadata": {},
   "source": [
    "## Explanation\n",
    "We change the author name in the raw json file to name and roll number. We can also change the title of the document in a similar manner. Apart from changing the author we can also rename the notebook to whatever we want from the rename interface in the jupyter lab environment.\n",
    "\n",
    "When using LaTeX to generate the PDF, we can similarly see a author section that can be changed as per requirement."
   ]
  },
  {
   "cell_type": "markdown",
   "id": "47576f05-90e1-4c8b-b75b-13ebffe95171",
   "metadata": {},
   "source": [
    "# Basic Data Types\n",
    "\n",
    "Here we have a series of small problems involving various basic data types in Python.  You are required to complete the code where required, and give *brief* explanations of your answers.  Remember that the documentation and explanation is as important as the answer.\n",
    "\n",
    "For each of the following cells, first execute them, and then give a brief explanation of why the answer comes out to be the way it does.  If there is an error during execution of the cell, explain how you fixed it.  **Add a new cell of type Markdown with the explanation** after the corresponding cell.  If you are using plain Python, add suitable comments after each line and explain this in the documentation (clearly you would be better off using Notebooks here)."
   ]
  },
  {
   "cell_type": "markdown",
   "id": "90d271f4",
   "metadata": {},
   "source": [
    "## Numerical types"
   ]
  },
  {
   "cell_type": "code",
   "execution_count": 1,
   "id": "1e2d2e6e",
   "metadata": {},
   "outputs": [
    {
     "name": "stdout",
     "output_type": "stream",
     "text": [
      "2.4\n"
     ]
    }
   ],
   "source": [
    "print(12 / 5)"
   ]
  },
  {
   "cell_type": "markdown",
   "id": "3f8d9c30-27a3-4549-8657-421dd557cdea",
   "metadata": {},
   "source": [
    "### Explanation\n",
    "This is a basic division operation, where two `int` datatype numbers are divided to genearte a `float` datatype value."
   ]
  },
  {
   "cell_type": "code",
   "execution_count": 2,
   "id": "1b587eb7",
   "metadata": {},
   "outputs": [
    {
     "name": "stdout",
     "output_type": "stream",
     "text": [
      "2\n"
     ]
    }
   ],
   "source": [
    "print(12 // 5)"
   ]
  },
  {
   "cell_type": "markdown",
   "id": "1993429e-7307-40b1-a97e-a37a89aa9a64",
   "metadata": {},
   "source": [
    "### Explanation\n",
    "This is floor division operation. Two `int` datatype numbers are divided and the floor of the resulting value is returned. The output of this operation is always an `int`."
   ]
  },
  {
   "cell_type": "code",
   "execution_count": 3,
   "id": "97a6c535",
   "metadata": {},
   "outputs": [
    {
     "name": "stdout",
     "output_type": "stream",
     "text": [
      "10 10 1.0\n"
     ]
    }
   ],
   "source": [
    "a=b=10\n",
    "print(a,b,a/b)"
   ]
  },
  {
   "cell_type": "markdown",
   "id": "36fa0b5f-fc54-4615-bfde-f25cbd20ac00",
   "metadata": {},
   "source": [
    "### Explanation\n",
    "*a* and *b* are assigned to the value 10, which is then printed in a single line as a, b, a/b. As there is a division operation being performed, the divided value reults in a `float` datatype."
   ]
  },
  {
   "cell_type": "markdown",
   "id": "af329d1c",
   "metadata": {},
   "source": [
    "## Strings and related operations"
   ]
  },
  {
   "cell_type": "code",
   "execution_count": 4,
   "id": "ba913542",
   "metadata": {},
   "outputs": [
    {
     "name": "stdout",
     "output_type": "stream",
     "text": [
      "Hello \n"
     ]
    }
   ],
   "source": [
    "a = \"Hello \"\n",
    "print(a)"
   ]
  },
  {
   "cell_type": "markdown",
   "id": "e7d80bdd-f93b-43a1-b5d0-88f5d7dd8380",
   "metadata": {},
   "source": [
    "### Explanation\n",
    "The variable a is assigned to the `string` \"Hello\"."
   ]
  },
  {
   "cell_type": "code",
   "execution_count": 5,
   "id": "ad0e046b",
   "metadata": {},
   "outputs": [
    {
     "ename": "TypeError",
     "evalue": "can only concatenate str (not \"int\") to str",
     "output_type": "error",
     "traceback": [
      "\u001b[0;31m---------------------------------------------------------------------------\u001b[0m",
      "\u001b[0;31mTypeError\u001b[0m                                 Traceback (most recent call last)",
      "Cell \u001b[0;32mIn[5], line 1\u001b[0m\n\u001b[0;32m----> 1\u001b[0m \u001b[38;5;28mprint\u001b[39m(\u001b[43ma\u001b[49m\u001b[38;5;241;43m+\u001b[39;49m\u001b[43mb\u001b[49m)  \u001b[38;5;66;03m# Output should contain \"Hello 10\" \u001b[39;00m\n",
      "\u001b[0;31mTypeError\u001b[0m: can only concatenate str (not \"int\") to str"
     ]
    }
   ],
   "source": [
    "print(a+b)  # Output should contain \"Hello 10\" "
   ]
  },
  {
   "cell_type": "markdown",
   "id": "f9410dc1-7e19-449c-bc46-ef6d6d0f0ddf",
   "metadata": {},
   "source": [
    "### Explanation\n",
    "An error is observed. This is because of the `int` datatype of variable b which cannot be concatenated to the string a to print the resulting string. We cannot add an `int` datatype variable to a `string` datatype variable."
   ]
  },
  {
   "cell_type": "code",
   "execution_count": 6,
   "id": "ce34c71f-6bc8-475f-9281-631e9c37226f",
   "metadata": {},
   "outputs": [
    {
     "name": "stdout",
     "output_type": "stream",
     "text": [
      "Hello 10\n"
     ]
    }
   ],
   "source": [
    "print(a + str(b))"
   ]
  },
  {
   "cell_type": "markdown",
   "id": "565158a2-71ca-46fa-9fcf-68a352d42276",
   "metadata": {},
   "source": [
    "This cell is the fix to the error thrown above. We use typecasting to convert `int` to `string` datatype, using the function `str()`. The `str()` converts any datatype to a string."
   ]
  },
  {
   "cell_type": "code",
   "execution_count": 7,
   "id": "e2793fa4",
   "metadata": {},
   "outputs": [
    {
     "name": "stdout",
     "output_type": "stream",
     "text": [
      "----------------------------------------\n",
      "                                      42\n",
      "*-*-*-*-*-*-*-*-*-*-*-*-*-*-*-*-*-*-*-*-\n"
     ]
    }
   ],
   "source": [
    "# Print out a line of 40 '-' signs (to look like one long line)\n",
    "# Then print the number 42 so that it is right justified to the end of \n",
    "# the above line\n",
    "# Then print one more line of length 40, but with the pattern '*-*-*-' \n",
    "print(\"-\"*40)\n",
    "print(f\"{42:>40}\")\n",
    "print(\"*-\"*20)"
   ]
  },
  {
   "cell_type": "markdown",
   "id": "4906523c-1677-4454-b426-09a9d7705410",
   "metadata": {},
   "source": [
    "### Explanation\n",
    "Use a simple multiply string to generate the required number of `-` and print *42* in the next line by right justifying it using formatting techniques. The formatting is done using `{:}`, for left justified text, we use `<` and for right justified text, we use `>`. The number of spaces to be filled in is given by the number after `</>` symbols. Here we right justified the *42* by 40.\n",
    "\n",
    "Then we print the pattern `*-` 20 times to fill up the line of lenght *40*."
   ]
  },
  {
   "cell_type": "code",
   "execution_count": 8,
   "id": "71165176-acf7-4891-aeb9-3e11b9236a2f",
   "metadata": {},
   "outputs": [
    {
     "name": "stdout",
     "output_type": "stream",
     "text": [
      "----------------------------------------\n",
      "                                        42\n",
      "*-*-*-*-*-*-*-*-*-*-*-*-*-*-*-*-*-*-*-*-\n"
     ]
    }
   ],
   "source": [
    "print(\"-\"*40)\n",
    "print(f\"{42:>42}\")\n",
    "print(\"*-\"*20)"
   ]
  },
  {
   "cell_type": "markdown",
   "id": "b15a12ba-3238-4052-b6ab-fa398e7a29a3",
   "metadata": {},
   "source": [
    "This cell justifies *42* such that it is right justified to the end of the line drawn above it."
   ]
  },
  {
   "cell_type": "code",
   "execution_count": 9,
   "id": "a99f72e8-a0da-49f0-84a8-8e74540dfc16",
   "metadata": {},
   "outputs": [
    {
     "name": "stdout",
     "output_type": "stream",
     "text": [
      "----------------------------------------42\n",
      "*-*-*-*-*-*-*-*-*-*-*-*-*-*-*-*-*-*-*-*-\n"
     ]
    }
   ],
   "source": [
    "print(\"-\"*40,42, sep='')\n",
    "print(\"*-\"*20)"
   ]
  },
  {
   "cell_type": "markdown",
   "id": "8f517505-ae77-4ad2-bd6e-ab53c85d193a",
   "metadata": {},
   "source": [
    "This cell prints 42 at the end of the series in the same line without any space."
   ]
  },
  {
   "cell_type": "code",
   "execution_count": 10,
   "id": "9b4e1f03",
   "metadata": {},
   "outputs": [
    {
     "name": "stdout",
     "output_type": "stream",
     "text": [
      "The variable 'a' has the value Hello  and 'b' has the value         10\n"
     ]
    }
   ],
   "source": [
    "print(f\"The variable 'a' has the value {a} and 'b' has the value {b:>10}\")"
   ]
  },
  {
   "cell_type": "markdown",
   "id": "d2973f9e-5452-4e7a-9622-c11f21035e62",
   "metadata": {},
   "source": [
    "### Explanation\n",
    "The `{}` notation is used to add in values of variables and `:<>` is used to add in spaces for left or right justification of text."
   ]
  },
  {
   "cell_type": "code",
   "execution_count": 11,
   "id": "9d746f81",
   "metadata": {},
   "outputs": [
    {
     "name": "stdout",
     "output_type": "stream",
     "text": [
      "EE2703                     Applied Programming Lab\n",
      "EE2003                       Computer Organization\n",
      "EE5131                           Digital IC Design\n"
     ]
    }
   ],
   "source": [
    "# Create a list of dictionaries where each entry in the list has two keys:\n",
    "# - id: this will be the ID number of a course, for example 'EE2703'\n",
    "# - name: this will be the name, for example 'Applied Programming Lab'\n",
    "# Add 3 entries:\n",
    "# EE2703 -> Applied Programming Lab\n",
    "# EE2003 -> Computer Organization\n",
    "# EE5311 -> Digital IC Design\n",
    "# Then print out the entries in a neatly formatted table where the \n",
    "# ID number is left justified\n",
    "# to 10 spaces and the name is right justified to 40 spaces.  \n",
    "# That is it should look like:\n",
    "\n",
    "# EE2703                     Applied Programming Lab\n",
    "# EE2003                       Computer Organization\n",
    "# EE5131                           Digital IC Design\n",
    "\n",
    "lis = [{\"id\" : \"EE2703\", \"name\" : \"Applied Programming Lab\"}, \n",
    "       {\"id\" : \"EE2003\", \"name\" : \"Computer Organization\"}, \n",
    "       {\"id\" : \"EE5131\", \"name\" : \"Digital IC Design\"}]\n",
    "\n",
    "for i in range(len(lis)):\n",
    "    print(f\"{lis[i]['id']:<10}{lis[i]['name']:>40}\")\n"
   ]
  },
  {
   "cell_type": "markdown",
   "id": "5232684f-8fef-4397-9ed9-08ac58a1bdf9",
   "metadata": {},
   "source": [
    "### Explanation\n",
    "Create a list of dictionaries with two keys. And print these values in a tabular format using `{}` formatting.\n",
    "\n",
    "The dictionary has two keys - *id* and *name*. The *id* is the course number which is printed with left justification of *10*, and *name* is the name of the course which is printed with right justification of *40*."
   ]
  },
  {
   "cell_type": "markdown",
   "id": "959169d6",
   "metadata": {},
   "source": [
    "# Functions for general manipulation"
   ]
  },
  {
   "cell_type": "code",
   "execution_count": 12,
   "id": "fb799573",
   "metadata": {},
   "outputs": [],
   "source": [
    "# Write a function with name 'twosc' that will take a single integer \n",
    "# as input, and print out the binary representation of the number \n",
    "# as output.  The function should take one other optional parameter N \n",
    "# which represents the number of bits.  The final result should always \n",
    "# contain N characters as output (either 0 or 1) and should use \n",
    "# two's complement to represent the number if it is negative.\n",
    "# Examples:\n",
    "# twosc(10): 0000000000001010\n",
    "# twosc(-10): 1111111111110110\n",
    "# twosc(-20, 8): 11101100\n",
    "#\n",
    "# Use only functions from the Python standard library to do this.\n",
    "def twosc(x, N=16):\n",
    "    #check whether x is positive or negative\n",
    "    if x >= 0:\n",
    "        #convert to binary\n",
    "        rep = bin(x)\n",
    "        #slicing the string\n",
    "        bin_rep = rep[2:]\n",
    "        #adding '0's to get the required length\n",
    "        if len(bin_rep) <= N:\n",
    "            bin_rep = bin_rep.zfill(N)\n",
    "    else:\n",
    "        #convert to binary\n",
    "        rep = bin(-x)\n",
    "        #string slicing\n",
    "        bin_rep = rep[2:]\n",
    "        #adding '0's to get the required length\n",
    "        if len(bin_rep)<= N:\n",
    "            bin_rep = bin_rep.zfill(N)\n",
    "        #taking 2's complement of the positive value to get the representation of negative number\n",
    "        arr = []\n",
    "        #1's complement\n",
    "        for i in range(len(bin_rep)):\n",
    "            arr.append(int(bin_rep[i]))\n",
    "            if arr[i] == 1:\n",
    "                arr[i] = 0\n",
    "            else:\n",
    "                arr[i] = 1\n",
    "        #adding 1 to get 2's complement\n",
    "        for i in range(len(bin_rep)):\n",
    "            if arr[len(bin_rep) - 1 - i] == 0:\n",
    "                arr[len(bin_rep) - 1 - i] = 1\n",
    "                break\n",
    "            else:\n",
    "                arr[len(bin_rep) - 1 - i] = 0\n",
    "        #to convert array into a string using join function\n",
    "        bin_rep = ''.join(str(i) for i in arr)\n",
    "    \n",
    "    #returning the string of required length\n",
    "    return bin_rep[len(bin_rep) - N:]"
   ]
  },
  {
   "cell_type": "code",
   "execution_count": 13,
   "id": "11e9aa7f-896c-45d3-821c-26938281703e",
   "metadata": {},
   "outputs": [
    {
     "name": "stdout",
     "output_type": "stream",
     "text": [
      "0000000000001010\n"
     ]
    }
   ],
   "source": [
    "print(twosc(10))"
   ]
  },
  {
   "cell_type": "code",
   "execution_count": 14,
   "id": "7dadd418-fb9c-46c3-90f8-bfb4f2260c13",
   "metadata": {},
   "outputs": [
    {
     "name": "stdout",
     "output_type": "stream",
     "text": [
      "1111111111110110\n"
     ]
    }
   ],
   "source": [
    "print(twosc(-10))"
   ]
  },
  {
   "cell_type": "code",
   "execution_count": 15,
   "id": "28f500f6-4ba1-4799-96ac-e97139d5774a",
   "metadata": {},
   "outputs": [
    {
     "name": "stdout",
     "output_type": "stream",
     "text": [
      "11101100\n"
     ]
    }
   ],
   "source": [
    "print(twosc(-20, 8))"
   ]
  },
  {
   "cell_type": "markdown",
   "id": "9827755f-b8a3-491c-afee-629714b358ee",
   "metadata": {},
   "source": [
    "### Explanation\n",
    "The above code displays any `int` number in its binary form of specified number of bits. It also represents negative values by its 2's complement representation.\n",
    "\n",
    "With the number and the number of bits as the arguments to the function. The code first checks whether the number is positive or negative. \n",
    "If found positive, it is converted to the binary form using the function `bin()` which returns a string with *0b* in the beginning. It is filtered out using string manipulation, then it is filled with zeros using the `zfill()` function to match the number of bits given in the argument.\n",
    "If the number found is negative, it represented as the binary form of its positive number. And the 2's complement is taken by taking 1's complement and then adding 1 to this representation. \n",
    "\n",
    "This gives the binary representation of the given number."
   ]
  },
  {
   "cell_type": "markdown",
   "id": "d9845f63",
   "metadata": {},
   "source": [
    "# List comprehensions and decorators"
   ]
  },
  {
   "cell_type": "code",
   "execution_count": 16,
   "id": "9f573a70-d7f0-4496-926f-34b7cff5492f",
   "metadata": {},
   "outputs": [
    {
     "data": {
      "text/plain": [
       "[0, 4, 16, 36, 64]"
      ]
     },
     "execution_count": 16,
     "metadata": {},
     "output_type": "execute_result"
    }
   ],
   "source": [
    "# Explain the output you see below\n",
    "[x*x for x in range(10) if x%2 == 0]"
   ]
  },
  {
   "cell_type": "markdown",
   "id": "58c2e791-0445-4213-a390-ac55a7e0a5a2",
   "metadata": {},
   "source": [
    "### Explanation\n",
    "A list of squares of even numbers till 10 (10 not included) is generated. This condensed representation of for loop running through `range(10)` and the condition `x%2==0` (even number) to append to the list as `x*x`. This is an example of list comprehension."
   ]
  },
  {
   "cell_type": "code",
   "execution_count": 17,
   "id": "d34ddb81-5caf-40a7-ac1f-43ce08d64220",
   "metadata": {},
   "outputs": [
    {
     "data": {
      "text/plain": [
       "[1, 2, 3, 4, 5, 6, 7, 8, 9]"
      ]
     },
     "execution_count": 17,
     "metadata": {},
     "output_type": "execute_result"
    }
   ],
   "source": [
    "# Explain the output you see below\n",
    "matrix = [[1,2,3], [4,5,6], [7,8,9]]\n",
    "[v for row in matrix for v in row]"
   ]
  },
  {
   "cell_type": "markdown",
   "id": "71854a92-62c7-4731-807c-1b21c375bd13",
   "metadata": {},
   "source": [
    "### Explanation\n",
    "A 1D list is generated by appending through rows one after the other. The *row* vaiable runs through every row in the matrix (individual 1D list) and the *v* variable runs through these rows."
   ]
  },
  {
   "cell_type": "code",
   "execution_count": 18,
   "id": "e7349601-a068-4d91-bc0f-bcc755c4b215",
   "metadata": {},
   "outputs": [],
   "source": [
    "# Define a function `is_prime(x)` that will return True if a number \n",
    "# is prime, or False otherwise.\n",
    "# Use it to write a one-line statement that will print all \n",
    "# prime numbers between 1 and 100\n",
    "def is_prime(x):\n",
    "    for i in range(2, int(x/2) + 1):\n",
    "        if (x%i) == 0:\n",
    "            return False\n",
    "    return True"
   ]
  },
  {
   "cell_type": "markdown",
   "id": "4136e505-8fc2-4038-b0ac-c6e509727a82",
   "metadata": {},
   "source": [
    "### Exaplanation\n",
    " The above function returns boolean value whether the given number is a prime number or not. It is designed using a basic *for* loop through the required range."
   ]
  },
  {
   "cell_type": "code",
   "execution_count": 19,
   "id": "29623b9c-d6a5-40fa-9462-29080701d58e",
   "metadata": {},
   "outputs": [
    {
     "name": "stdout",
     "output_type": "stream",
     "text": [
      "[1, 2, 3, 5, 7, 11, 13, 17, 19, 23, 29, 31, 37, 41, 43, 47, 53, 59, 61, 67, 71, 73, 79, 83, 89, 97]\n"
     ]
    }
   ],
   "source": [
    "print([i for i in range(1, 100) if is_prime(i)])"
   ]
  },
  {
   "cell_type": "markdown",
   "id": "56f63cd3-79f3-4563-9ffb-cb3ae36b4429",
   "metadata": {},
   "source": [
    "### Explanation\n",
    "List of all prime numbers under 100 are generated as a list using list comprehension. Here the previously defined `is_prime` function is used, to check whether a number is prime or not."
   ]
  },
  {
   "cell_type": "code",
   "execution_count": 20,
   "id": "3dd1087b-f384-41a2-88d8-6788336d2291",
   "metadata": {},
   "outputs": [
    {
     "name": "stdout",
     "output_type": "stream",
     "text": [
      "Hello happy flappy world\n"
     ]
    }
   ],
   "source": [
    "# Explain the output below\n",
    "def f1(x):\n",
    "    return \"happy \" + x\n",
    "def f2(f):\n",
    "    def wrapper(*args, **kwargs):\n",
    "        return \"Hello \" + f(*args, **kwargs) + \" world\"\n",
    "    return wrapper\n",
    "f3 = f2(f1)\n",
    "print(f3(\"flappy\"))"
   ]
  },
  {
   "cell_type": "markdown",
   "id": "dbb272d8-bba8-4b2b-a0ee-c0b1853436de",
   "metadata": {},
   "source": [
    "### Explanation\n",
    "The wrapper function in f2 takes f, another function as its argument. when f3 called as f2(f1) with argument \"flappy\", f2 runs the wrapper function returning \"Hello \" and calling f1 function with argument \"flappy\" that returns \"happy flappy\" and finally f2 adds in \" world\". In conclusion, the function f3 called in such a manner returns \"Hello happy flappy world\"."
   ]
  },
  {
   "cell_type": "code",
   "execution_count": 21,
   "id": "ede870a7-6564-4930-9ff1-818f075c3e43",
   "metadata": {},
   "outputs": [
    {
     "name": "stdout",
     "output_type": "stream",
     "text": [
      "Hello nappy flappy world\n"
     ]
    }
   ],
   "source": [
    "# Explain the output below\n",
    "@f2\n",
    "def f4(x):\n",
    "    return \"nappy \" + x\n",
    "\n",
    "print(f4(\"flappy\"))"
   ]
  },
  {
   "cell_type": "markdown",
   "id": "f3beefa4-e169-4a88-b52e-a77ddfc63659",
   "metadata": {},
   "source": [
    "### Explanation\n",
    "A decorator is used to call function f2 with f4 as its argument. When f4 is passed in the argument \"flappy\" it generates \"nappy flappy\" which is then passed into function f2, that generated the string, inside wrapper function, \"Hello nappy flappy world\"."
   ]
  },
  {
   "cell_type": "markdown",
   "id": "de144cc1-a06a-4e96-8017-7887296dddc0",
   "metadata": {},
   "source": [
    "# File IO"
   ]
  },
  {
   "cell_type": "code",
   "execution_count": 22,
   "id": "09e62f52-fec6-4026-a4d8-ca4b87b19732",
   "metadata": {},
   "outputs": [],
   "source": [
    "# Write a function to generate prime numbers from 1 to N (input)\n",
    "# and write them to a file (second argument).  You can reuse the prime\n",
    "# detection function written earlier.\n",
    "def write_primes(N, filename):\n",
    "    f = open(filename, \"w\")\n",
    "    for i in range(2, N+1):\n",
    "        if is_prime(i):\n",
    "            f.write(str(i)+ \" \")\n",
    "            \n",
    "    f.close()\n",
    "    return"
   ]
  },
  {
   "cell_type": "markdown",
   "id": "e42d5a4b-600a-4a37-876b-acaf0a1b9e15",
   "metadata": {},
   "source": [
    "## Explanation\n",
    "A new file is generated in write mode where all the prime numbers till N are written into. The `is_prime` function is used to check whether  number is prime or not."
   ]
  },
  {
   "cell_type": "code",
   "execution_count": 23,
   "id": "c92a3e42-0fe1-444f-abec-645f85c2657b",
   "metadata": {},
   "outputs": [],
   "source": [
    "write_primes(20, \"some.txt\")"
   ]
  },
  {
   "cell_type": "markdown",
   "id": "f0397299-b0df-41b3-b16c-9cf5c2741414",
   "metadata": {},
   "source": [
    "A test cell to check the working of the above function."
   ]
  },
  {
   "cell_type": "markdown",
   "id": "9b2de5cb-13c3-4804-9576-e7bb6fd3a371",
   "metadata": {},
   "source": [
    "# Exceptions"
   ]
  },
  {
   "cell_type": "code",
   "execution_count": 24,
   "id": "eec5626e-6e92-45bf-b307-2459de0f44e1",
   "metadata": {},
   "outputs": [],
   "source": [
    "# Write a function that takes in a number as input, and prints out \n",
    "# whether it is a prime or not.  If the input is not an integer,\n",
    "# print an appropriate error message.  Use exceptions to detect problems.\n",
    "def check_prime(x):\n",
    "    try:\n",
    "        y = int(x)\n",
    "        if is_prime(y) and y > 0:\n",
    "            print(\"%i is prime number\" %y)\n",
    "        elif y<=0:\n",
    "            print(\"%i is a non-positive number\" %y)\n",
    "        else:\n",
    "            print(\"%i is not prime\" %y)\n",
    "    except:\n",
    "        print(\"%s is not an int\" %x)"
   ]
  },
  {
   "cell_type": "code",
   "execution_count": null,
   "id": "2606ebac-88d0-44cc-ad33-e02969005f41",
   "metadata": {},
   "outputs": [],
   "source": [
    "print(check)"
   ]
  },
  {
   "cell_type": "markdown",
   "id": "7e025837-f683-4bc1-a9d1-ebff7d634de9",
   "metadata": {},
   "source": [
    "## Explanation\n",
    "We use exception handling to detect whether the given input is a prime number or not. We try to typecast to `int`, if it fails then the except block is run to prompt the user that the input is not an integer. The `try` and `except` commands are used to check whether an error is raised or not. Here if the enetered input is not an `int` then the user is prompted that the input is not a valid. If the number is negative, then the user is prompted accordingly. Only when the user enters a positive integer, the fucntion checks whether this number is prime or not using `is_prime` function."
   ]
  }
 ],
 "metadata": {
  "authors": [
   {
    "name": "Srikar Babu Gadipudi EE21B138"
   }
  ],
  "kernelspec": {
   "display_name": "Python 3 (ipykernel)",
   "language": "python",
   "name": "python3"
  },
  "language_info": {
   "codemirror_mode": {
    "name": "ipython",
    "version": 3
   },
   "file_extension": ".py",
   "mimetype": "text/x-python",
   "name": "python",
   "nbconvert_exporter": "python",
   "pygments_lexer": "ipython3",
   "version": "3.9.2"
  },
  "title": "EE2703 - Week 1",
  "toc-autonumbering": true,
  "vscode": {
   "interpreter": {
    "hash": "b0fa6594d8f4cbf19f97940f81e996739fb7646882a419484c72d19e05852a7e"
   }
  }
 },
 "nbformat": 4,
 "nbformat_minor": 5
}
